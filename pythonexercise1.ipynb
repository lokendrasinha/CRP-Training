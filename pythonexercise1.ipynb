{
  "nbformat": 4,
  "nbformat_minor": 0,
  "metadata": {
    "colab": {
      "provenance": []
    },
    "kernelspec": {
      "name": "python3",
      "display_name": "Python 3"
    },
    "language_info": {
      "name": "python"
    }
  },
  "cells": [
    {
      "cell_type": "markdown",
      "source": [
        "#Task Description\n",
        "Write a Python program that:\n",
        "\n",
        "● Accepts a list of city names from the user.\n",
        "\n",
        "● Uses the OpenWeatherMap API (or any mock API if you're offline) to fetch weather data.\n",
        "\n",
        "● Filters out cities where the temperature is above 30°C.\n",
        "\n",
        "● Stores city names and their temperature in a list of tuples.\n",
        "\n",
        "● Converts the final list to a set of unique city names.\n",
        "\n",
        "● Displays results using slicing, indexing, and looping with conditions.\n",
        "\n",
        "● Handles network errors and invalid city names gracefully.\n",
        "\n",
        "● Uses functions for modular design.\n",
        "\n",
        "● Uses list comprehension to extract hot cities."
      ],
      "metadata": {
        "id": "-1cdTeGIcu-W"
      }
    },
    {
      "cell_type": "markdown",
      "source": [
        "\n",
        "####Name : Lokendra J. Sinha\n",
        "####Branch : AIML\n",
        "####Section A\n",
        "####Roll NO. :32\n",
        "####Date : 26/06/2025"
      ],
      "metadata": {
        "id": "kNef5YKh566q"
      }
    },
    {
      "cell_type": "code",
      "source": [
        "import requests\n",
        "import pdb  # For debugging if needed\n",
        "\n",
        "# 1️. Function to clean and process a comma-separated list of cities\n",
        "def clean_cities(input_str):\n",
        "    \"\"\"\n",
        "    Takes a comma-separated string of cities,\n",
        "    strips whitespace, and returns a set of unique city names.\n",
        "    \"\"\"\n",
        "    city_list = input_str.split(\",\")\n",
        "    unique_cities = set(city.strip() for city in city_list)\n",
        "    return unique_cities\n",
        "\n",
        "# 2️. Try-except block to handle errors from an API call\n",
        "def get_weather(city):\n",
        "    \"\"\"\n",
        "    Makes an API call to OpenWeather and returns temperature in Celsius.\n",
        "    Handles API errors gracefully.\n",
        "    \"\"\"\n",
        "    API_KEY = \"5e596351ad437835d35f6629c53b37d8\"\n",
        "    BASE_URL = \"https://api.openweathermap.org/data/2.5/weather\"\n",
        "    params = {\n",
        "        \"appid\": API_KEY,\n",
        "        \"q\": city,\n",
        "        \"units\": \"metric\"\n",
        "    }\n",
        "    try:\n",
        "        response = requests.get(BASE_URL, params=params)\n",
        "        response.raise_for_status()\n",
        "        data = response.json()\n",
        "        temp = data[\"main\"][\"temp\"]\n",
        "        return temp\n",
        "    except requests.exceptions.RequestException as e:\n",
        "        print(f\"Error fetching weather data for {city}: {e}\")\n",
        "        return None\n",
        "\n",
        "#  Main program\n",
        "if __name__ == \"__main__\":\n",
        "    cities_input = input(\"Enter cities (comma-separated): \")\n",
        "    unique_cities = clean_cities(cities_input)\n",
        "\n",
        "    print(f\"Unique cities: {unique_cities}\")  # 5️. Using sets to get unique entries\n",
        "\n",
        "    city_temp = []  # 4️. Storing temperature data as tuples\n",
        "\n",
        "    for city in unique_cities:\n",
        "        # 7️. Debugging step (optional, uncomment to use)\n",
        "        # pdb.set_trace()\n",
        "        temp = get_weather(city)\n",
        "        if temp is not None:\n",
        "            print(f\"Fetched {city}: {temp}°C\")\n",
        "            city_temp.append((city, temp))\n",
        "\n",
        "    # 4️. Accessing using indexing/slicing\n",
        "    if city_temp:\n",
        "        print(f\"First city temp record: {city_temp[0]}\")\n",
        "        print(f\"Top 3 city records: {city_temp[:3]}\")\n",
        "\n",
        "    # 3️. List comprehension to filter hot cities\n",
        "    hot_cities = [(city, temp) for city, temp in city_temp if temp > 30.00]\n",
        "\n",
        "    # 6️. Logic using loops + conditions to classify temps\n",
        "    print(\"\\nAll Cities Classification:\")\n",
        "    for city, temp in city_temp:\n",
        "        if temp > 25.00:\n",
        "            print(f\"{city}: {temp}°C (Hot)\")\n",
        "        else:\n",
        "            print(f\"{city}: {temp}°C (Not hot)\")\n",
        "\n",
        "    print(\"\\nHot Cities (from list comprehension):\")\n",
        "    for city, temp in hot_cities:\n",
        "        print(f\"{city}: {temp}°C\")\n"
      ],
      "metadata": {
        "colab": {
          "base_uri": "https://localhost:8080/",
          "height": 0
        },
        "id": "dMVnt3V3c95A",
        "outputId": "19bcbe3d-9f6d-4468-b79c-05acc006718f"
      },
      "execution_count": 20,
      "outputs": [
        {
          "output_type": "stream",
          "name": "stdout",
          "text": [
            "Enter cities (comma-separated): Nagpur,Manali,Pune\n",
            "Unique cities: {'Pune', 'Manali', 'Nagpur'}\n",
            "Fetched Pune: 27.54°C\n",
            "Fetched Manali: 35.56°C\n",
            "Fetched Nagpur: 29.01°C\n",
            "First city temp record: ('Pune', 27.54)\n",
            "Top 3 city records: [('Pune', 27.54), ('Manali', 35.56), ('Nagpur', 29.01)]\n",
            "\n",
            "All Cities Classification:\n",
            "Pune: 27.54°C (Hot)\n",
            "Manali: 35.56°C (Hot)\n",
            "Nagpur: 29.01°C (Hot)\n",
            "\n",
            "Hot Cities (from list comprehension):\n",
            "Manali: 35.56°C\n"
          ]
        }
      ]
    },
    {
      "cell_type": "code",
      "source": [
        "#1. Write a function to clean and process a comma-separated list of cities.\n",
        "def clean_cities(input_str):\n",
        "    \"\"\"\n",
        "    Takes a comma-separated string of cities,\n",
        "    strips whitespace, and returns a set of unique city names.\n",
        "    \"\"\"\n",
        "    city_list = input_str.split(\",\")\n",
        "    unique_cities = set(city.strip() for city in city_list)\n",
        "    return unique_cities\n",
        "\n",
        "# Example usage\n",
        "cities = input(\"Enter cities: \")\n",
        "unique_cities = clean_cities(cities)\n",
        "\n"
      ],
      "metadata": {
        "colab": {
          "base_uri": "https://localhost:8080/",
          "height": 0
        },
        "id": "S07_-dIojCYb",
        "outputId": "823dcb5c-b378-490e-e22c-011d5aacdf9e"
      },
      "execution_count": 12,
      "outputs": [
        {
          "output_type": "stream",
          "name": "stdout",
          "text": [
            "Enter cities : Nagpur, chandrapur,Pune\n",
            "['Nagpur', ' chandrapur', 'Pune']\n"
          ]
        }
      ]
    },
    {
      "cell_type": "code",
      "source": [
        "#2.Write a try-except block to handle errors from an API call.\n",
        "# using openweather api\n",
        "\n",
        "import requests\n",
        "\n",
        "API_KEY = \"5e596351ad437835d35f6629c53b37d8\"\n",
        "BASE_URL = \"https://api.openweathermap.org/data/2.5/weather\"\n",
        "\n",
        "def get_weather(city):\n",
        "    \"\"\"\n",
        "    Makes an API call to OpenWeather and returns temperature in Celsius.\n",
        "    Handles API errors gracefully.\n",
        "    \"\"\"\n",
        "    params = {\n",
        "        \"appid\": API_KEY,\n",
        "        \"q\": city,\n",
        "        \"units\": \"metric\"\n",
        "    }\n",
        "    try:\n",
        "        response = requests.get(BASE_URL, params=params)\n",
        "        response.raise_for_status()\n",
        "        data = response.json()\n",
        "        temp = data[\"main\"][\"temp\"]\n",
        "        return temp\n",
        "    except requests.exceptions.RequestException as e:\n",
        "        print(f\"Error fetching weather data for {city}: {e}\")\n",
        "        return None\n"
      ],
      "metadata": {
        "id": "7bo8IhxNsX3f"
      },
      "execution_count": 21,
      "outputs": []
    },
    {
      "cell_type": "code",
      "source": [
        "#3. Use list comprehension to filter based on a condition.\n",
        "# Assuming city_temp is populated with (city, temp) tuples\n",
        "hot_cities = [(city, temp) for city, temp in city_temp if temp > 30.00]\n",
        "print(hot_cities)"
      ],
      "metadata": {
        "colab": {
          "base_uri": "https://localhost:8080/",
          "height": 0
        },
        "id": "8Jfy_4dws0Qq",
        "outputId": "e1714c15-5ce7-46ce-e8ab-8d6a2e9e746d"
      },
      "execution_count": 23,
      "outputs": [
        {
          "output_type": "stream",
          "name": "stdout",
          "text": [
            "[('Manali', 35.56)]\n"
          ]
        }
      ]
    },
    {
      "cell_type": "code",
      "source": [
        "# 4. Store temperature data using tuples and access it using indexing/slicing.\n",
        "city_temp = []\n",
        "\n",
        "for city in unique_cities:\n",
        "    temp = get_weather(city)\n",
        "    if temp is not None:\n",
        "        city_temp.append((city, temp))\n",
        "\n",
        "# Accessing data via indexing\n",
        "first_city = city_temp[0] if city_temp else None\n",
        "print(\"First city's data (if available):\", first_city)\n",
        "\n",
        "# Slicing example\n",
        "print(\"Top 3 city records (if available):\", city_temp[:3])\n"
      ],
      "metadata": {
        "colab": {
          "base_uri": "https://localhost:8080/",
          "height": 0
        },
        "id": "DrhFbEeezawz",
        "outputId": "c5ab094b-74af-410f-d1dd-0e213d4875b1"
      },
      "execution_count": 24,
      "outputs": [
        {
          "output_type": "stream",
          "name": "stdout",
          "text": [
            "First city's data (if available): ('Pune', 28.42)\n",
            "Top 3 city records (if available): [('Pune', 28.42), ('Manali', 35.55), ('Nagpur', 29.01)]\n"
          ]
        }
      ]
    },
    {
      "cell_type": "code",
      "source": [
        "#5.Use sets to get unique entries.\n",
        "# This was done in clean_cities function already\n",
        "\n",
        "print(\"Unique cities entered:\", unique_cities)\n"
      ],
      "metadata": {
        "colab": {
          "base_uri": "https://localhost:8080/",
          "height": 0
        },
        "id": "2lSR-1QVzrCn",
        "outputId": "835f842c-6c28-4432-ce87-ceef2f19bac1"
      },
      "execution_count": 25,
      "outputs": [
        {
          "output_type": "stream",
          "name": "stdout",
          "text": [
            "Unique cities entered: {'Pune', 'Manali', 'Nagpur'}\n"
          ]
        }
      ]
    },
    {
      "cell_type": "code",
      "source": [
        "#6.Write logic using loops and conditions to classify temperatures.\n",
        "\n",
        "print(\"\\nHot Cities:\")\n",
        "for city, temp in city_temp:\n",
        "    if temp > 30.00:\n",
        "        print(f\"{city}: {temp}°C\")\n",
        "    else:\n",
        "        print(f\"{city}: {temp}°C (Not hot)\")\n"
      ],
      "metadata": {
        "colab": {
          "base_uri": "https://localhost:8080/",
          "height": 0
        },
        "id": "Nn2rSzpNz5yc",
        "outputId": "26779fa4-5f0b-4808-dc62-49e77905f238"
      },
      "execution_count": 26,
      "outputs": [
        {
          "output_type": "stream",
          "name": "stdout",
          "text": [
            "\n",
            "Hot Cities:\n",
            "Pune: 28.42°C (Not hot)\n",
            "Manali: 35.55°C\n",
            "Nagpur: 29.01°C (Not hot)\n"
          ]
        }
      ]
    }
  ]
}